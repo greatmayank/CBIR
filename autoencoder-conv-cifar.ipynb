{
 "cells": [
  {
   "cell_type": "code",
   "execution_count": null,
   "metadata": {},
   "outputs": [],
   "source": [
    "from keras.layers import Input, Dense, Conv2D, MaxPooling2D, UpSampling2D, Flatten\n",
    "from keras.models import Model, load_model\n",
    "\n",
    "class ConvolutionalAutoencoder:\n",
    "    def __init__(self):\n",
    "        self.encoder_model = None\n",
    "        self.model = None\n",
    "        return\n",
    "    \n",
    "    def build(self, input_dims, opt):\n",
    "        input_layer = Input(shape=input_dims)\n",
    "        \n",
    "        conv_one = Conv2D(64, (3,3), activation='relu', padding='same') (input_layer)\n",
    "        conv_two = Conv2D(64, (3,3), activation='relu', padding='same') (input_layer)\n",
    "        pool_one = MaxPooling2D((2,2), padding='same') (conv_two)\n",
    "        \n",
    "        conv_three = Conv2D(32, (3,3), activation='relu', padding='same') (pool_one)\n",
    "        conv_four = Conv2D(32, (3,3), activation='relu', padding='same') (conv_three)\n",
    "        pool_two = MaxPooling2D((2,2), padding='same') (conv_four)\n",
    "        \n",
    "        conv_five = Conv2D(16, (3,3), activation='relu', padding='same') (pool_two)\n",
    "        conv_six = Conv2D(16, (3,3), activation='relu', padding='same') (conv_five)\n",
    "        pool_three = MaxPooling2D((2,2), padding='same') (conv_six)\n",
    "        \n",
    "        encoder_output = Flatten() (pool_three)\n",
    "        self.encoder_model = Model(input_layer, encoder_output)\n",
    "        \n",
    "        conv_seven = Conv2D(16, (3,3), activation='relu', padding='same') (pool_three)\n",
    "        conv_eight = Conv2D(16, (3,3), activation='relu', padding='same') (conv_seven)\n",
    "        upsamp_one = UpSampling2D((2,2)) (conv_eight)\n",
    "        \n",
    "        conv_nine = Conv2D(32, (3,3), activation='relu', padding='same') (upsamp_one)\n",
    "        conv_ten = Conv2D(32, (3,3), activation='relu', padding='same') (conv_nine)\n",
    "        upsamp_two = UpSampling2D((2,2)) (conv_ten)\n",
    "        \n",
    "        conv_eleven = Conv2D(64, (3,3), activation='relu', padding='same') (upsamp_two)\n",
    "        conv_twelve = Conv2D(64, (3,3), activation='relu', padding='same') (conv_eleven)\n",
    "        upsamp_three = UpSampling2D((2,2)) (conv_twelve)\n",
    "        decoder_output = Conv2D(3, (3,3), activation='sigmoid', padding='same') (upsamp_three)\n",
    "        \n",
    "        self.model = Model(input_layer, decoder_output)\n",
    "        self.model.compile(optimizer=opt, loss='binary_crossentropy')\n",
    "        \n",
    "        '''\n",
    "        conv_one = Conv2D(16, (3,3), activation='relu', padding='same') (input_layer)\n",
    "        pool_one = MaxPooling2D((2,2), padding='same') (conv_one)\n",
    "        conv_two = Conv2D(8, (3,3), activation='relu', padding='same') (pool_one)\n",
    "        pool_two = MaxPooling2D((2,2), padding='same') (conv_two)\n",
    "        conv_three = Conv2D(8, (3,3), activation='relu', padding='same') (pool_two)\n",
    "        encoder_output = MaxPooling2D((2,2), padding='same') (conv_three)\n",
    "        self.encoder_model = Model(input_layer, encoder_output)\n",
    "        \n",
    "        conv_four = Conv2D(8, (3,3), activation='relu', padding='same') (encoder_output)\n",
    "        upsamp_one = UpSampling2D((2,2)) (conv_four)\n",
    "        conv_five = Conv2D(8, (3,3), activation='relu', padding='same') (upsamp_one)\n",
    "        upsamp_two = UpSampling2D((2,2)) (conv_five)\n",
    "        conv_six = Conv2D(16, (3,3), activation='relu') (upsamp_two)\n",
    "        upsamp_three = UpSampling2D((2,2)) (conv_six)\n",
    "        decoder_output = Conv2D(1, (3,3), activation='sigmoid', padding='same') (upsamp_three)\n",
    "        self.model = Model(input_layer, decoder_output)\n",
    "        \n",
    "        self.model.compile(optimizer='adagrad', loss='binary_crossentropy')\n",
    "        '''\n",
    "        return\n",
    "    \n",
    "    def load(self, model_file, encoder_model_file):\n",
    "        self.encoder_model = load_model(encoder_model_file)\n",
    "        self.model = load_model(model_file)\n",
    "        return\n",
    "    \n",
    "    def train(self, train_input, train_output,\n",
    "             val_input, val_output,\n",
    "             epochs=50,\n",
    "             batch_size=64,\n",
    "             shuffle=True):\n",
    "        self.model.fit(train_input, train_output,\n",
    "                      epochs=epochs, batch_size=batch_size,\n",
    "                      shuffle=shuffle,\n",
    "                      validation_data=(val_input, val_output))\n",
    "        return\n",
    "    \n",
    "    def encoder_predict(self, test_input):\n",
    "        return self.encoder_model.predict(test_input)\n",
    "    \n",
    "    def predict(self, test_input):\n",
    "        return self.model.predict(test_input)\n",
    "    \n",
    "    def save(self, model_file, encoder_model_file):\n",
    "        self.model.save(model_file)\n",
    "        self.encoder_model.save(encoder_model_file)\n",
    "        return"
   ]
  },
  {
   "cell_type": "code",
   "execution_count": null,
   "metadata": {},
   "outputs": [],
   "source": [
    "from keras.datasets import cifar10\n",
    "from keras import optimizers\n",
    "import numpy as np\n",
    "\n",
    "(x_train, _), (x_test, _) = cifar10.load_data()"
   ]
  },
  {
   "cell_type": "code",
   "execution_count": null,
   "metadata": {},
   "outputs": [],
   "source": [
    "x_train = x_train.astype('float32') / 255\n",
    "x_test = x_test.astype('float32') / 255\n",
    "\n",
    "print x_train.shape\n",
    "print x_test.shape"
   ]
  },
  {
   "cell_type": "code",
   "execution_count": null,
   "metadata": {},
   "outputs": [],
   "source": [
    "#x_train = x_train[:20000]\n",
    "print x_train.shape"
   ]
  },
  {
   "cell_type": "code",
   "execution_count": null,
   "metadata": {},
   "outputs": [],
   "source": [
    "autoencoder = ConvolutionalAutoencoder()\n",
    "opt = optimizers.adam(lr=0.001, decay=0.)\n",
    "autoencoder.build((32, 32, 3, ), opt)"
   ]
  },
  {
   "cell_type": "code",
   "execution_count": null,
   "metadata": {},
   "outputs": [],
   "source": [
    "autoencoder.train(x_train, x_train, x_test, x_test,\n",
    "                 epochs=40,\n",
    "                 batch_size=64,\n",
    "                 shuffle=True)"
   ]
  },
  {
   "cell_type": "code",
   "execution_count": null,
   "metadata": {},
   "outputs": [],
   "source": [
    "pred_train = autoencoder.predict(x_test)"
   ]
  },
  {
   "cell_type": "code",
   "execution_count": null,
   "metadata": {},
   "outputs": [],
   "source": [
    "import matplotlib.pyplot as plt\n",
    "\n",
    "plt.figure(figsize=(10,4))\n",
    "for i in range(5):\n",
    "    ax = plt.subplot(2, 5, i+1)\n",
    "    plt.imshow(x_test[i])\n",
    "    ax.get_xaxis().set_visible(False)\n",
    "    ax.get_yaxis().set_visible(False)\n",
    "    \n",
    "    ax = plt.subplot(2, 5, i+1+5)\n",
    "    plt.imshow(pred_train[i].reshape(32,32,3))\n",
    "    ax.get_xaxis().set_visible(False)\n",
    "    ax.get_yaxis().set_visible(False)\n",
    "\n",
    "plt.show()"
   ]
  },
  {
   "cell_type": "code",
   "execution_count": null,
   "metadata": {},
   "outputs": [],
   "source": [
    "autoencoder.model.save('cifar-autoencoder-model.h5')\n",
    "autoencoder.encoder_model.save('cifar-autoencoder-encoder-model.h5')\n",
    "print \"Saved!\""
   ]
  }
 ],
 "metadata": {
  "kernelspec": {
   "display_name": "Python 3",
   "language": "python",
   "name": "python3"
  },
  "language_info": {
   "codemirror_mode": {
    "name": "ipython",
    "version": 3
   },
   "file_extension": ".py",
   "mimetype": "text/x-python",
   "name": "python",
   "nbconvert_exporter": "python",
   "pygments_lexer": "ipython3",
   "version": "3.6.5"
  }
 },
 "nbformat": 4,
 "nbformat_minor": 2
}
